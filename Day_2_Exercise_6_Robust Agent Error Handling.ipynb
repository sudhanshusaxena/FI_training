{
 "cells": [
  {
   "cell_type": "markdown",
   "id": "58d1ba9a",
   "metadata": {},
   "source": [
    "# Day 2 — Exercise 6: Robust Agent Error Handling (Enterprise Level)\n",
    "\n",
    "## Background & Plan\n",
    "\n",
    "**Objective:** Design an enterprise-grade agent capable of handling tool failures gracefully through comprehensive error handling and logging.\n",
    "\n",
    "### Why this topic matters\n",
    "In production environments, services and tools can be unreliable due to network issues, rate limits, or bugs. Without robust error handling, a single failure can cascade and degrade user experience. Structured logging and monitoring provide visibility into system health and help identify recurring problems.\n",
    "\n",
    "### What we'll build (final objective)\n",
    "We will enhance a simple, unreliable agent by adding retry logic, timeouts, and a fallback mechanism. We'll capture structured logs and analyze them to compute metrics like success rate and average retries. This mirrors enterprise practices where agents must be resilient and observable.\n",
    "\n",
    "### How steps unfold (basic → intermediate → advanced)\n",
    "- **Stage A — Basic Setup:** Configure structured logging and create a baseline agent that simulates failures. Test its behaviour.\n",
    "- **Stage B — Intermediate Enhancements:** Implement retry and timeout decorators and add a fallback mechanism. Compose these to build a robust agent. Test it thoroughly.\n",
    "- **Stage C — Advanced Analysis:** Collect logs from multiple runs, parse them into a structured format (a DataFrame), and compute metrics to understand performance and failure patterns.\n",
    "\n",
    "### Requirements\n",
    "- Python ≥ 3.9\n",
    "- Standard libraries: `logging`, `time`, `random`, `functools`, `signal`\n",
    "- Optional: `pandas` for tabular analysis (install with `pip install pandas` if not available)\n"
   ]
  },
  {
   "cell_type": "markdown",
   "id": "101b4aa6",
   "metadata": {},
   "source": [
    "## Plan Outline\n",
    "- **Stage A — Setup Logging and Baseline Agent**\n",
    "  - Step 1: Configure structured logging\n",
    "  - Step 2: Define a baseline agent that fails randomly\n",
    "  - Step 3: Perform a basic test of the baseline agent\n",
    "\n",
    "- **Stage B — Add Retries, Timeouts, and Fallbacks**\n",
    "  - Step 4: Implement a retry decorator with exponential backoff\n",
    "  - Step 5: Implement a timeout decorator\n",
    "  - Step 6: Implement a fallback function for unrecoverable failures\n",
    "  - Step 7: Compose a robust agent using retry, timeout, and fallback\n",
    "  - Step 8: Test the robust agent\n",
    "\n",
    "- **Stage C — Collect Logs and Analyze Metrics**\n",
    "  - Step 9: Run multiple trials and collect detailed logs\n",
    "  - Step 10: Load logs into a DataFrame and compute metrics (success rate, retries)\n",
    "  - Step 11: Explore the log data (preview table; optional visualization)\n"
   ]
  },
  {
   "cell_type": "markdown",
   "id": "1fdb24c4",
   "metadata": {},
   "source": [
    "### Stage A — Setup Logging and Baseline Agent\n",
    "\n",
    "We begin by configuring structured logging and defining a baseline agent that occasionally fails. This stage establishes a baseline for later improvements."
   ]
  },
  {
   "cell_type": "markdown",
   "id": "e3f30945",
   "metadata": {},
   "source": [
    "#### Step 1: Configure structured logging"
   ]
  },
  {
   "cell_type": "code",
   "execution_count": 1,
   "id": "4b144609",
   "metadata": {},
   "outputs": [
    {
     "name": "stderr",
     "output_type": "stream",
     "text": [
      "2025-09-20 02:21:29,387 [INFO] Logging configured.\n"
     ]
    }
   ],
   "source": [
    "import logging\n",
    "\n",
    "# Set up logging with timestamp, level, and message\n",
    "logging.basicConfig(\n",
    "    level=logging.INFO,\n",
    "    format='%(asctime)s [%(levelname)s] %(message)s'\n",
    ")\n",
    "\n",
    "logging.info('Logging configured.')\n"
   ]
  },
  {
   "cell_type": "markdown",
   "id": "0c1d12fe",
   "metadata": {},
   "source": [
    "We configure the logging module to include timestamps and log levels. This configuration will be used throughout the notebook to capture structured events."
   ]
  },
  {
   "cell_type": "markdown",
   "id": "4941e829",
   "metadata": {},
   "source": [
    "#### Step 2: Define a baseline agent function"
   ]
  },
  {
   "cell_type": "code",
   "execution_count": 2,
   "id": "e42065b9",
   "metadata": {},
   "outputs": [
    {
     "name": "stdout",
     "output_type": "stream",
     "text": [
      "Baseline agent defined.\n"
     ]
    }
   ],
   "source": [
    "import random\n",
    "\n",
    "def baseline_agent(x: int) -> int:\n",
    "    '''Baseline agent that doubles the input but fails randomly.'''\n",
    "    # Simulate a 50% chance of failure\n",
    "    if random.random() < 0.5:\n",
    "        raise RuntimeError('Simulated tool failure')\n",
    "    return x * 2\n",
    "\n",
    "print('Baseline agent defined.')\n"
   ]
  },
  {
   "cell_type": "markdown",
   "id": "0bad8a15",
   "metadata": {},
   "source": [
    "The `baseline_agent` multiplies its input by 2 but raises a `RuntimeError` half of the time to simulate a flaky external tool."
   ]
  },
  {
   "cell_type": "markdown",
   "id": "ac7d69e8",
   "metadata": {},
   "source": [
    "#### Step 3: Perform a basic test of the baseline agent"
   ]
  },
  {
   "cell_type": "code",
   "execution_count": 3,
   "id": "c9fe82d2",
   "metadata": {},
   "outputs": [
    {
     "name": "stdout",
     "output_type": "stream",
     "text": [
      "Call 0: SUCCESS → 0\n",
      "Call 1: FAILURE → Simulated tool failure\n",
      "Call 2: SUCCESS → 4\n",
      "Call 3: SUCCESS → 6\n",
      "Call 4: SUCCESS → 8\n"
     ]
    }
   ],
   "source": [
    "# Execute baseline agent on several inputs to observe its behaviour\n",
    "for i in range(5):\n",
    "    try:\n",
    "        result = baseline_agent(i)\n",
    "        print(f'Call {i}: SUCCESS → {result}')\n",
    "    except Exception as e:\n",
    "        print(f'Call {i}: FAILURE → {e}')\n"
   ]
  },
  {
   "cell_type": "markdown",
   "id": "25a986ae",
   "metadata": {},
   "source": [
    "You'll notice approximately half of the calls fail. In the next stage we'll implement strategies to handle these failures."
   ]
  },
  {
   "cell_type": "markdown",
   "id": "7bb36853",
   "metadata": {},
   "source": [
    "### Stage B — Add Retries, Timeouts, and Fallbacks\n",
    "\n",
    "We now enhance our agent by adding retry logic with exponential backoff, a timeout to prevent hanging calls, and a fallback function to provide a default response when all retries fail."
   ]
  },
  {
   "cell_type": "markdown",
   "id": "039ee155",
   "metadata": {},
   "source": [
    "#### Step 4: Implement a retry decorator"
   ]
  },
  {
   "cell_type": "code",
   "execution_count": 4,
   "id": "511223ae",
   "metadata": {},
   "outputs": [],
   "source": [
    "import time\n",
    "from functools import wraps\n",
    "\n",
    "def retry(max_retries: int = 3, backoff_base: float = 2.0):\n",
    "    '''Return a decorator that retries the wrapped function upon exception.'''\n",
    "    def decorator(func):\n",
    "        @wraps(func)\n",
    "        def wrapper(*args, **kwargs):\n",
    "            for attempt in range(1, max_retries + 1):\n",
    "                try:\n",
    "                    return func(*args, **kwargs)\n",
    "                except Exception as e:\n",
    "                    logging.warning(f'Attempt {attempt} failed: {e}')\n",
    "                    if attempt == max_retries:\n",
    "                        logging.error('Max retries reached; re-raising exception.')\n",
    "                        raise\n",
    "                    # Exponential backoff to avoid rapid retries\n",
    "                    wait = backoff_base ** attempt\n",
    "                    logging.info(f'Waiting {wait:.1f}s before retrying...')\n",
    "                    time.sleep(wait)\n",
    "        return wrapper\n",
    "    return decorator\n"
   ]
  },
  {
   "cell_type": "markdown",
   "id": "f34135af",
   "metadata": {},
   "source": [
    "The `retry` decorator attempts to call the function up to `max_retries` times. After each failure, it waits for an exponentially increasing delay before retrying."
   ]
  },
  {
   "cell_type": "markdown",
   "id": "f67ed24a",
   "metadata": {},
   "source": [
    "#### Step 5: Implement a timeout decorator"
   ]
  },
  {
   "cell_type": "code",
   "execution_count": 5,
   "id": "311d1cfe",
   "metadata": {},
   "outputs": [],
   "source": [
    "import signal\n",
    "\n",
    "class TimeoutError(Exception):\n",
    "    '''Raised when a function call exceeds the allotted time.''' \n",
    "    pass\n",
    "\n",
    "\n",
    "def timeout(seconds: int):\n",
    "    '''Return a decorator that aborts the function if it runs longer than `seconds`.'''\n",
    "    def decorator(func):\n",
    "        def _handle_timeout(signum, frame):\n",
    "            raise TimeoutError('Function call timed out')\n",
    "\n",
    "        @wraps(func)\n",
    "        def wrapper(*args, **kwargs):\n",
    "            # Register alarm signal handler\n",
    "            signal.signal(signal.SIGALRM, _handle_timeout)\n",
    "            signal.alarm(seconds)\n",
    "            try:\n",
    "                return func(*args, **kwargs)\n",
    "            finally:\n",
    "                # Cancel the alarm\n",
    "                signal.alarm(0)\n",
    "        return wrapper\n",
    "    return decorator\n"
   ]
  },
  {
   "cell_type": "markdown",
   "id": "47c637eb",
   "metadata": {},
   "source": [
    "The `timeout` decorator uses Unix signals to interrupt a long-running call. It raises a `TimeoutError` if the wrapped function doesn't return within the specified number of seconds."
   ]
  },
  {
   "cell_type": "markdown",
   "id": "2c4eba03",
   "metadata": {},
   "source": [
    "#### Step 6: Implement a fallback function"
   ]
  },
  {
   "cell_type": "code",
   "execution_count": 6,
   "id": "095e977d",
   "metadata": {},
   "outputs": [],
   "source": [
    "def fallback_agent(x: int) -> int:\n",
    "    '''Fallback used when baseline agent repeatedly fails. Returns a default value.'''\n",
    "    logging.info('Fallback agent invoked.')\n",
    "    return -1  # Return a sentinel value indicating failure\n"
   ]
  },
  {
   "cell_type": "markdown",
   "id": "e1d3b059",
   "metadata": {},
   "source": [
    "The fallback agent provides a safe default value when the primary agent cannot produce a result after retries. In a real system, this might call a simpler heuristic or return a cached response."
   ]
  },
  {
   "cell_type": "markdown",
   "id": "6d824d46",
   "metadata": {},
   "source": [
    "#### Step 7: Compose a robust agent using retry, timeout, and fallback"
   ]
  },
  {
   "cell_type": "code",
   "execution_count": 7,
   "id": "24ae083d",
   "metadata": {},
   "outputs": [
    {
     "name": "stdout",
     "output_type": "stream",
     "text": [
      "Robust agent composed.\n"
     ]
    }
   ],
   "source": [
    "# First wrap the baseline agent with timeout\n",
    "@timeout(seconds=1)\n",
    "def timed_baseline(x: int) -> int:\n",
    "    return baseline_agent(x)\n",
    "\n",
    "# Then wrap with retry; if it still fails, use the fallback\n",
    "@retry(max_retries=3, backoff_base=1.5)\n",
    "def robust_agent(x: int) -> int:\n",
    "    try:\n",
    "        return timed_baseline(x)\n",
    "    except (RuntimeError, TimeoutError):\n",
    "        return fallback_agent(x)\n",
    "\n",
    "print('Robust agent composed.')\n"
   ]
  },
  {
   "cell_type": "markdown",
   "id": "0f6ce523",
   "metadata": {},
   "source": [
    "We first apply a timeout to the baseline agent, then wrap it with the retry decorator. If all retries fail or a timeout occurs, we fall back to the safe fallback agent."
   ]
  },
  {
   "cell_type": "markdown",
   "id": "e8d528a8",
   "metadata": {},
   "source": [
    "#### Step 8: Test the robust agent"
   ]
  },
  {
   "cell_type": "code",
   "execution_count": 8,
   "id": "b08258ed",
   "metadata": {},
   "outputs": [
    {
     "name": "stderr",
     "output_type": "stream",
     "text": [
      "2025-09-20 02:21:29,492 [INFO] Fallback agent invoked.\n",
      "2025-09-20 02:21:29,493 [INFO] Fallback agent invoked.\n",
      "2025-09-20 02:21:29,498 [INFO] Fallback agent invoked.\n"
     ]
    },
    {
     "name": "stdout",
     "output_type": "stream",
     "text": [
      "Robust call 0: SUCCESS → 0\n",
      "Robust call 1: FALLBACK → -1\n",
      "Robust call 2: FALLBACK → -1\n",
      "Robust call 3: FALLBACK → -1\n",
      "Robust call 4: SUCCESS → 8\n"
     ]
    }
   ],
   "source": [
    "for i in range(5):\n",
    "    result = robust_agent(i)\n",
    "    status = 'SUCCESS' if result != -1 else 'FALLBACK'\n",
    "    print(f'Robust call {i}: {status} → {result}')\n"
   ]
  },
  {
   "cell_type": "markdown",
   "id": "4416b19a",
   "metadata": {},
   "source": [
    "Observe that the robust agent returns a default value (-1) when all retries fail, rather than raising an exception. This makes it safer to use in production pipelines."
   ]
  },
  {
   "cell_type": "markdown",
   "id": "a02ac732",
   "metadata": {},
   "source": [
    "### Stage C — Collect Logs and Analyze Metrics\n",
    "\n",
    "Finally, we'll run the robust agent across multiple inputs, capture detailed logs including retry counts and elapsed times, and analyze the results. This provides insight into system performance and reliability."
   ]
  },
  {
   "cell_type": "markdown",
   "id": "d542b816",
   "metadata": {},
   "source": [
    "#### Step 9: Run multiple trials and collect detailed logs"
   ]
  },
  {
   "cell_type": "code",
   "execution_count": 9,
   "id": "8c0ca41a",
   "metadata": {},
   "outputs": [
    {
     "name": "stderr",
     "output_type": "stream",
     "text": [
      "2025-09-20 02:21:30,553 [INFO] NumExpr defaulting to 8 threads.\n",
      "2025-09-20 02:21:34,597 [INFO] Fallback agent invoked.\n"
     ]
    },
    {
     "data": {
      "text/html": [
       "<div>\n",
       "<style scoped>\n",
       "    .dataframe tbody tr th:only-of-type {\n",
       "        vertical-align: middle;\n",
       "    }\n",
       "\n",
       "    .dataframe tbody tr th {\n",
       "        vertical-align: top;\n",
       "    }\n",
       "\n",
       "    .dataframe thead th {\n",
       "        text-align: right;\n",
       "    }\n",
       "</style>\n",
       "<table border=\"1\" class=\"dataframe\">\n",
       "  <thead>\n",
       "    <tr style=\"text-align: right;\">\n",
       "      <th></th>\n",
       "      <th>input</th>\n",
       "      <th>status</th>\n",
       "      <th>result</th>\n",
       "      <th>error</th>\n",
       "      <th>retries</th>\n",
       "      <th>elapsed_s</th>\n",
       "    </tr>\n",
       "  </thead>\n",
       "  <tbody>\n",
       "    <tr>\n",
       "      <th>0</th>\n",
       "      <td>0</td>\n",
       "      <td>success</td>\n",
       "      <td>0</td>\n",
       "      <td>None</td>\n",
       "      <td>0</td>\n",
       "      <td>0.000013</td>\n",
       "    </tr>\n",
       "    <tr>\n",
       "      <th>1</th>\n",
       "      <td>1</td>\n",
       "      <td>success</td>\n",
       "      <td>2</td>\n",
       "      <td>None</td>\n",
       "      <td>0</td>\n",
       "      <td>0.000002</td>\n",
       "    </tr>\n",
       "    <tr>\n",
       "      <th>2</th>\n",
       "      <td>2</td>\n",
       "      <td>success</td>\n",
       "      <td>4</td>\n",
       "      <td>None</td>\n",
       "      <td>0</td>\n",
       "      <td>0.000002</td>\n",
       "    </tr>\n",
       "    <tr>\n",
       "      <th>3</th>\n",
       "      <td>3</td>\n",
       "      <td>fallback</td>\n",
       "      <td>-1</td>\n",
       "      <td>RuntimeError</td>\n",
       "      <td>2</td>\n",
       "      <td>3.759263</td>\n",
       "    </tr>\n",
       "    <tr>\n",
       "      <th>4</th>\n",
       "      <td>4</td>\n",
       "      <td>success</td>\n",
       "      <td>8</td>\n",
       "      <td>None</td>\n",
       "      <td>0</td>\n",
       "      <td>0.000048</td>\n",
       "    </tr>\n",
       "    <tr>\n",
       "      <th>5</th>\n",
       "      <td>5</td>\n",
       "      <td>success</td>\n",
       "      <td>10</td>\n",
       "      <td>None</td>\n",
       "      <td>1</td>\n",
       "      <td>1.505483</td>\n",
       "    </tr>\n",
       "    <tr>\n",
       "      <th>6</th>\n",
       "      <td>6</td>\n",
       "      <td>success</td>\n",
       "      <td>12</td>\n",
       "      <td>None</td>\n",
       "      <td>0</td>\n",
       "      <td>0.000014</td>\n",
       "    </tr>\n",
       "    <tr>\n",
       "      <th>7</th>\n",
       "      <td>7</td>\n",
       "      <td>success</td>\n",
       "      <td>14</td>\n",
       "      <td>None</td>\n",
       "      <td>0</td>\n",
       "      <td>0.000011</td>\n",
       "    </tr>\n",
       "    <tr>\n",
       "      <th>8</th>\n",
       "      <td>8</td>\n",
       "      <td>success</td>\n",
       "      <td>16</td>\n",
       "      <td>None</td>\n",
       "      <td>0</td>\n",
       "      <td>0.000009</td>\n",
       "    </tr>\n",
       "    <tr>\n",
       "      <th>9</th>\n",
       "      <td>9</td>\n",
       "      <td>success</td>\n",
       "      <td>18</td>\n",
       "      <td>None</td>\n",
       "      <td>0</td>\n",
       "      <td>0.000011</td>\n",
       "    </tr>\n",
       "  </tbody>\n",
       "</table>\n",
       "</div>"
      ],
      "text/plain": [
       "   input    status  result         error  retries  elapsed_s\n",
       "0      0   success       0          None        0   0.000013\n",
       "1      1   success       2          None        0   0.000002\n",
       "2      2   success       4          None        0   0.000002\n",
       "3      3  fallback      -1  RuntimeError        2   3.759263\n",
       "4      4   success       8          None        0   0.000048\n",
       "5      5   success      10          None        1   1.505483\n",
       "6      6   success      12          None        0   0.000014\n",
       "7      7   success      14          None        0   0.000011\n",
       "8      8   success      16          None        0   0.000009\n",
       "9      9   success      18          None        0   0.000011"
      ]
     },
     "execution_count": 9,
     "metadata": {},
     "output_type": "execute_result"
    }
   ],
   "source": [
    "import pandas as pd\n",
    "import time\n",
    "\n",
    "# Function to call robust agent and record metrics\n",
    "def call_with_logging(x: int):\n",
    "    start = time.time()\n",
    "    tries = 0\n",
    "    result = None\n",
    "    error = None\n",
    "    while True:\n",
    "        tries += 1\n",
    "        try:\n",
    "            result = timed_baseline(x)\n",
    "            break\n",
    "        except Exception as e:\n",
    "            if tries >= 3:\n",
    "                result = fallback_agent(x)\n",
    "                error = type(e).__name__\n",
    "                break\n",
    "            time.sleep(1.5 ** tries)\n",
    "    elapsed = time.time() - start\n",
    "    status = 'success' if result != -1 else 'fallback'\n",
    "    return {'input': x, 'status': status, 'result': result, 'error': error, 'retries': tries - 1, 'elapsed_s': elapsed}\n",
    "\n",
    "# Run the robust agent for inputs 0–9\n",
    "log_records = [call_with_logging(i) for i in range(10)]\n",
    "log_df = pd.DataFrame(log_records)\n",
    "log_df\n"
   ]
  },
  {
   "cell_type": "markdown",
   "id": "03507c86",
   "metadata": {},
   "source": [
    "The `call_with_logging` function wraps the robust agent and records the number of retries, total elapsed time, and whether a fallback occurred. We run this on inputs 0–9 and store the results in a DataFrame."
   ]
  },
  {
   "cell_type": "markdown",
   "id": "dc5697d6",
   "metadata": {},
   "source": [
    "#### Step 10: Compute metrics from the logs"
   ]
  },
  {
   "cell_type": "code",
   "execution_count": 11,
   "id": "ef85cc9a",
   "metadata": {},
   "outputs": [
    {
     "name": "stdout",
     "output_type": "stream",
     "text": [
      "Success rate: 0.90\n",
      "Average retries: 0.30\n",
      "Average elapsed time (s): 0.53\n",
      "Error types and counts:\n",
      "error\n",
      "None            9\n",
      "RuntimeError    1\n",
      "Name: count, dtype: int64\n"
     ]
    }
   ],
   "source": [
    "# Compute success rate and average number of retries\n",
    "success_rate = len(log_df[log_df['status'] == 'success']) / len(log_df)\n",
    "average_retries = log_df['retries'].mean()\n",
    "average_elapsed = log_df['elapsed_s'].mean()\n",
    "\n",
    "print(f'Success rate: {success_rate:.2f}')\n",
    "print(f'Average retries: {average_retries:.2f}')\n",
    "print(f'Average elapsed time (s): {average_elapsed:.2f}')\n",
    "\n",
    "# Breakdown by error type\n",
    "error_counts = log_df['error'].value_counts(dropna=False)\n",
    "print('Error types and counts:')\n",
    "print(error_counts)\n"
   ]
  },
  {
   "cell_type": "markdown",
   "id": "d9297c31",
   "metadata": {},
   "source": [
    "We calculate the overall success rate, average number of retries, and average elapsed time. We also list the types of errors encountered during the runs. These metrics help identify where improvements are needed."
   ]
  },
  {
   "cell_type": "markdown",
   "id": "958cd38b",
   "metadata": {},
   "source": [
    "#### Step 11: Explore and visualize the log data"
   ]
  },
  {
   "cell_type": "code",
   "execution_count": 12,
   "id": "3eda0be5",
   "metadata": {},
   "outputs": [
    {
     "data": {
      "text/html": [
       "<div>\n",
       "<style scoped>\n",
       "    .dataframe tbody tr th:only-of-type {\n",
       "        vertical-align: middle;\n",
       "    }\n",
       "\n",
       "    .dataframe tbody tr th {\n",
       "        vertical-align: top;\n",
       "    }\n",
       "\n",
       "    .dataframe thead th {\n",
       "        text-align: right;\n",
       "    }\n",
       "</style>\n",
       "<table border=\"1\" class=\"dataframe\">\n",
       "  <thead>\n",
       "    <tr style=\"text-align: right;\">\n",
       "      <th></th>\n",
       "      <th>input</th>\n",
       "      <th>status</th>\n",
       "      <th>result</th>\n",
       "      <th>error</th>\n",
       "      <th>retries</th>\n",
       "      <th>elapsed_s</th>\n",
       "    </tr>\n",
       "  </thead>\n",
       "  <tbody>\n",
       "    <tr>\n",
       "      <th>0</th>\n",
       "      <td>0</td>\n",
       "      <td>success</td>\n",
       "      <td>0</td>\n",
       "      <td>None</td>\n",
       "      <td>0</td>\n",
       "      <td>0.000013</td>\n",
       "    </tr>\n",
       "    <tr>\n",
       "      <th>1</th>\n",
       "      <td>1</td>\n",
       "      <td>success</td>\n",
       "      <td>2</td>\n",
       "      <td>None</td>\n",
       "      <td>0</td>\n",
       "      <td>0.000002</td>\n",
       "    </tr>\n",
       "    <tr>\n",
       "      <th>2</th>\n",
       "      <td>2</td>\n",
       "      <td>success</td>\n",
       "      <td>4</td>\n",
       "      <td>None</td>\n",
       "      <td>0</td>\n",
       "      <td>0.000002</td>\n",
       "    </tr>\n",
       "    <tr>\n",
       "      <th>3</th>\n",
       "      <td>3</td>\n",
       "      <td>fallback</td>\n",
       "      <td>-1</td>\n",
       "      <td>RuntimeError</td>\n",
       "      <td>2</td>\n",
       "      <td>3.759263</td>\n",
       "    </tr>\n",
       "    <tr>\n",
       "      <th>4</th>\n",
       "      <td>4</td>\n",
       "      <td>success</td>\n",
       "      <td>8</td>\n",
       "      <td>None</td>\n",
       "      <td>0</td>\n",
       "      <td>0.000048</td>\n",
       "    </tr>\n",
       "  </tbody>\n",
       "</table>\n",
       "</div>"
      ],
      "text/plain": [
       "   input    status  result         error  retries  elapsed_s\n",
       "0      0   success       0          None        0   0.000013\n",
       "1      1   success       2          None        0   0.000002\n",
       "2      2   success       4          None        0   0.000002\n",
       "3      3  fallback      -1  RuntimeError        2   3.759263\n",
       "4      4   success       8          None        0   0.000048"
      ]
     },
     "execution_count": 12,
     "metadata": {},
     "output_type": "execute_result"
    }
   ],
   "source": [
    "# Display the first few rows of the log DataFrame\n",
    "log_df.head()\n"
   ]
  },
  {
   "cell_type": "markdown",
   "id": "33fcaf07",
   "metadata": {},
   "source": [
    "The DataFrame preview shows a detailed record of each run. You could further visualize the distribution of retries or elapsed times using plots (e.g., histograms)."
   ]
  },
  {
   "cell_type": "markdown",
   "id": "83f82546",
   "metadata": {},
   "source": [
    "## Wrap-Up\n",
    "\n",
    "In this enterprise-level exercise, we went beyond basic error handling:\n",
    "\n",
    "- **Structured Logging:** We configured a logger to include timestamps and severity levels.\n",
    "- **Retry & Backoff:** Implemented a reusable `retry` decorator with exponential backoff.\n",
    "- **Timeouts:** Added a timeout decorator to prevent hanging calls.\n",
    "- **Fallback Mechanism:** Provided a safe fallback when all retries fail.\n",
    "- **Robust Composition:** Combined these elements to create a `robust_agent`.\n",
    "- **Detailed Monitoring:** Collected detailed logs across runs, including retries and elapsed time.\n",
    "- **Metrics Analysis:** Computed success rates and other metrics to assess reliability.\n",
    "\n",
    "### Learning Outcomes\n",
    "- You can now design agents that handle failures gracefully and provide structured logs for monitoring.\n",
    "- You learned how to use decorators to add cross-cutting concerns (retries and timeouts).\n",
    "- You gained experience analyzing logs to derive operational insights.\n",
    "\n",
    "### Next Steps\n",
    "- Integrate these patterns with real tool APIs and external services.\n",
    "- Export logs to centralized monitoring systems (e.g., Elasticsearch, Prometheus).\n",
    "- Implement alerting based on failure rates or latency thresholds.\n"
   ]
  },
  {
   "cell_type": "markdown",
   "id": "8fb1cbc7",
   "metadata": {},
   "source": [
    "### Quick Install"
   ]
  },
  {
   "cell_type": "code",
   "execution_count": 13,
   "id": "020d3d57",
   "metadata": {},
   "outputs": [
    {
     "name": "stdout",
     "output_type": "stream",
     "text": [
      "For log analysis, pandas is required. If missing, install it via pip.\n"
     ]
    }
   ],
   "source": [
    "# Install pandas if needed for DataFrame analysis\n",
    "# Uncomment the following line if pandas is not installed\n",
    "# !pip install pandas\n",
    "print('For log analysis, pandas is required. If missing, install it via pip.')\n"
   ]
  },
  {
   "cell_type": "code",
   "execution_count": null,
   "id": "c1bf06c8-033c-40a8-8132-b676c3d77acb",
   "metadata": {},
   "outputs": [],
   "source": []
  }
 ],
 "metadata": {
  "kernelspec": {
   "display_name": "Python 3 (ipykernel)",
   "language": "python",
   "name": "python3"
  },
  "language_info": {
   "codemirror_mode": {
    "name": "ipython",
    "version": 3
   },
   "file_extension": ".py",
   "mimetype": "text/x-python",
   "name": "python",
   "nbconvert_exporter": "python",
   "pygments_lexer": "ipython3",
   "version": "3.13.5"
  }
 },
 "nbformat": 4,
 "nbformat_minor": 5
}
